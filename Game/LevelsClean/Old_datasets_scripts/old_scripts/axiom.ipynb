{
 "cells": [
  {
   "cell_type": "markdown",
   "metadata": {},
   "source": [
    "## FINETUNING\n",
    "but they want money"
   ]
  },
  {
   "cell_type": "code",
   "execution_count": 3,
   "metadata": {},
   "outputs": [
    {
     "name": "stdout",
     "output_type": "stream",
     "text": [
      "An error occurred: [Errno 2] No such file or directory: 'data.jsonl'\n"
     ]
    }
   ],
   "source": [
    "import openai\n",
    "import os\n",
    "\n",
    "# Set your API key (preferably using an environment variable)\n",
    "openai.api_key = ''\n",
    "  # Recommended: use environment variable\n",
    "# Alternative (not recommended):\n",
    "# openai.api_key = 'your-api-key-here'\n",
    "\n",
    "# Step 1: Upload the dataset\n",
    "try:\n",
    "    file_response = openai.files.create(\n",
    "        file=open(\"data.jsonl\", \"rb\"),\n",
    "        purpose=\"fine-tune\"\n",
    "    )\n",
    "    file_id = file_response.id\n",
    "    print(f\"Uploaded file ID: {file_id}\")\n",
    "\n",
    "    # Step 2: Start the fine-tuning job\n",
    "    fine_tune_response = openai.fine_tuning.jobs.create(\n",
    "        training_file=file_id,\n",
    "        model=\"gpt-3.5-turbo\"  # Note: Changed from gpt-4o-mini as that's not a standard model\n",
    "    )\n",
    "    fine_tune_job_id = fine_tune_response.id\n",
    "    print(f\"Fine-tune job ID: {fine_tune_job_id}\")\n",
    "\n",
    "except Exception as e:\n",
    "    print(f\"An error occurred: {e}\")"
   ]
  },
  {
   "cell_type": "markdown",
   "metadata": {},
   "source": [
    "## COMPILING LEAN"
   ]
  },
  {
   "cell_type": "code",
   "execution_count": 4,
   "metadata": {},
   "outputs": [],
   "source": [
    "import os\n",
    "import subprocess\n",
    "\n",
    "\n",
    "def lean_compile(state: str):\n",
    "    workspace_path = os.path.abspath(os.path.join(os.getcwd(), '..', '..', '..'))  # Navigate up to NNG4 root\n",
    "\n",
    "    # Create temp file in the correct location\n",
    "    temp_file_path = os.path.join(workspace_path, \"Game\", \"Levels\", \"Addition\", \"temp_theorem.lean\")\n",
    "\n",
    "    with open(temp_file_path, \"w\") as f:\n",
    "        f.write(state)\n",
    "\n",
    "    # First make sure we're in the Lake project directory\n",
    "    os.chdir(project_dir)\n",
    "\n",
    "\n",
    "    # Try using lake env to run lean\n",
    "    result = subprocess.run(\n",
    "        ['lake', 'env', 'lean', temp_file_path],\n",
    "        capture_output=True,\n",
    "        text=True\n",
    "    )\n",
    "\n",
    "    if result.returncode == 0:\n",
    "        return False\n",
    "    else:\n",
    "        return result.stdout\n"
   ]
  },
  {
   "cell_type": "code",
   "execution_count": 9,
   "metadata": {},
   "outputs": [],
   "source": [
    "import os\n",
    "import subprocess\n",
    "\n",
    "def lean_compile(state: str):\n",
    "    workspace_path = os.path.abspath(os.path.join(os.getcwd(), '..', '..', '..'))  # Navigate up to NNG4 root\n",
    "\n",
    "    # Create temp file in the correct location\n",
    "    temp_file_path = os.path.join(workspace_path, \"Game\", \"Levels\", \"Addition\", \"temp_theorem.lean\")\n",
    "    try:\n",
    "        # Ensure the directory exists\n",
    "        os.makedirs(os.path.dirname(temp_file_path), exist_ok=True)\n",
    "\n",
    "        # Write the Lean code to a temporary file\n",
    "        with open(temp_file_path, \"w\") as f:\n",
    "            # Explicitly add necessary imports and namespace\n",
    "            full_content = f\"\"\"{state}\n",
    "end MyNat\n",
    "\"\"\"\n",
    "            f.write(full_content)\n",
    "\n",
    "        # Try compiling with explicit project root\n",
    "        result = subprocess.run(\n",
    "            ['lake', 'env', 'lean', temp_file_path],\n",
    "            capture_output=True,\n",
    "            text=True,\n",
    "            cwd=\"./\",\n",
    "            timeout=30\n",
    "        )\n",
    "        print(result)\n",
    "\n",
    "        # Check compilation result\n",
    "        if result.returncode == 0:\n",
    "            return False  # Successful compilation\n",
    "        else:\n",
    "            # Return detailed error output\n",
    "            return f\"Compilation Error:\\n{result.stdout}\\n{result.stderr}\"\n",
    "\n",
    "    except subprocess.TimeoutExpired:\n",
    "        return \"Compilation timed out\"\n",
    "    except Exception as e:\n",
    "        return f\"Compilation error: {str(e)}\"\n"
   ]
  },
  {
   "cell_type": "code",
   "execution_count": 19,
   "metadata": {},
   "outputs": [],
   "source": [
    "tactics = [\n",
    "    \"rw [name_of_theorem]\",\n",
    "    \"rw [ \\\\l name_of_theorem]\",\n",
    "    \"induction k with d hd\",\n",
    "    \"rfl\",\n",
    "]\n",
    "\n",
    "theorems = [\n",
    "    \"add_succ\",\n",
    "    \"add_zero\",\n",
    "    \"add_assoc\",\n",
    "    \"add_comm\",\n",
    "    'hd'\n",
    "]\n"
   ]
  },
  {
   "cell_type": "code",
   "execution_count": 7,
   "metadata": {},
   "outputs": [
    {
     "name": "stdout",
     "output_type": "stream",
     "text": [
      "CompletedProcess(args=['lake', 'env', 'lean', '/Users/raynabhattacharyya/Documents/Berkeley/Research/AIinEd/NNG4/Game/Levels/Addition/temp_theorem.lean'], returncode=1, stdout=\"/Users/raynabhattacharyya/Documents/Berkeley/Research/AIinEd/NNG4/Game/Levels/Addition/temp_theorem.lean:1:0: error: unknown package 'Game'\\nYou might need to open '/Users/raynabhattacharyya/Documents/Berkeley/Research/AIinEd/NNG4' as a workspace in your editor\\n/Users/raynabhattacharyya/Documents/Berkeley/Research/AIinEd/NNG4/Game/Levels/Addition/temp_theorem.lean:3:31: error: unexpected token '+'; expected ':=', 'where' or '|'\\n\", stderr='')\n"
     ]
    },
    {
     "data": {
      "text/plain": [
       "\"Compilation Error:\\n/Users/raynabhattacharyya/Documents/Berkeley/Research/AIinEd/NNG4/Game/Levels/Addition/temp_theorem.lean:1:0: error: unknown package 'Game'\\nYou might need to open '/Users/raynabhattacharyya/Documents/Berkeley/Research/AIinEd/NNG4' as a workspace in your editor\\n/Users/raynabhattacharyya/Documents/Berkeley/Research/AIinEd/NNG4/Game/Levels/Addition/temp_theorem.lean:3:31: error: unexpected token '+'; expected ':=', 'where' or '|'\\n\\n\""
      ]
     },
     "execution_count": 7,
     "metadata": {},
     "output_type": "execute_result"
    }
   ],
   "source": [
    "lean_compile('''import Game.Levels.Addition.L04add_assoc\n",
    "namespace MyNat\n",
    "theorem zero_add_thm (n: ℕ) : 0 + n = n := by\n",
    "  induction n with d hd\n",
    "  rw [add_zero]\n",
    "  rfl\n",
    "  rw [add_succ]\n",
    "  rw [hd]\n",
    "  rfl\n",
    "\n",
    "'''\n",
    "             )"
   ]
  },
  {
   "cell_type": "code",
   "execution_count": 6,
   "metadata": {},
   "outputs": [],
   "source": [
    "import os\n",
    "import json\n",
    "from openai import OpenAI\n",
    "\n",
    "\n",
    "def ask_llm(statement):\n",
    "    client = OpenAI(api_key='')\n",
    "    prompt = (\n",
    "        f\"\"\"\n",
    "\n",
    "        Here are all the possible lean tactics that you can use:\n",
    "        \"rw [name_of_theorem]\": \"rewrite using a theorem make sure the box brackets exists aroud name_of_theorem\",\n",
    "        \"rw [ \\l name_of_theorem]\": \"rewrite using the left-hand side of a theorem, make sure the box brackets exists aroud \\l name_of_theorem\",\n",
    "        \"induction k with d hd\": '''induction on k with d as the base case and hd as the induction step\n",
    "        the lean compiler automatically creates the goals for the base case and the induction step, and we start by solving the base case\n",
    "        followed by the induction step''',\n",
    "        'rfl': \"whenever a goal is completed and the LHS and RHS are exactly equal, use rfl to close the goal\",\n",
    "        'add_succ': \"theorem that for any natural numbers n and m: n + succ(m) = succ(n + m)\",\n",
    "        'add_zero': \"theorem that for any natural number n: n + 0 = n\",\n",
    "        'add_assoc': \"theorem that for any natural numbers n, m, and k: n + (m + k) = (n + m) + k\",\n",
    "        'add_comm': \"theorem that for any natural numbers n and m: n + m = m + n\",\n",
    "\n",
    "\n",
    "        convert the following natural language steps into lean4 tactics:\n",
    "        Note: one step only corresponds to one tactic\n",
    "        Note: CONVERT THE TACTICS EXACTLY HOW THE STUDENT HAS WRITTEN THEM IN THE NATURAL LANGUAGE DO NOT WORRY ABOUT LEAN COMPILATION ERRORS\n",
    "\n",
    "        {statement}\n",
    "\n",
    "        give me a list of tactics one after the other note that it is possible that one step may require multiple tactics\n",
    "        give me the ouput in the format ONLY and no other text:\n",
    "        tactic_1\n",
    "        tactic_2\n",
    "        tactic_3\n",
    "        ...\n",
    "        \"\"\"\n",
    "        )\n",
    "    response = client.chat.completions.create(messages=[{\"role\": \"user\", \"content\": prompt}], model=\"gpt-4o-mini\", temperature=0, n=1)\n",
    "    return(response.choices[0].message.content)"
   ]
  },
  {
   "cell_type": "code",
   "execution_count": null,
   "metadata": {},
   "outputs": [
    {
     "name": "stderr",
     "output_type": "stream",
     "text": [
      "<>:53: SyntaxWarning: invalid escape sequence '\\l'\n",
      "<>:97: SyntaxWarning: invalid escape sequence '\\l'\n",
      "<>:125: SyntaxWarning: invalid escape sequence '\\l'\n",
      "<>:53: SyntaxWarning: invalid escape sequence '\\l'\n",
      "<>:97: SyntaxWarning: invalid escape sequence '\\l'\n",
      "<>:125: SyntaxWarning: invalid escape sequence '\\l'\n",
      "/var/folders/l_/zz2st2097tg79c4ff5gdms5m0000gn/T/ipykernel_50348/3549923470.py:53: SyntaxWarning: invalid escape sequence '\\l'\n",
      "  \"\"\"\n",
      "/var/folders/l_/zz2st2097tg79c4ff5gdms5m0000gn/T/ipykernel_50348/3549923470.py:97: SyntaxWarning: invalid escape sequence '\\l'\n",
      "  \"\"\"\n",
      "/var/folders/l_/zz2st2097tg79c4ff5gdms5m0000gn/T/ipykernel_50348/3549923470.py:125: SyntaxWarning: invalid escape sequence '\\l'\n",
      "  \"\"\"\n"
     ]
    }
   ],
   "source": [
    "import os\n",
    "import json\n",
    "from openai import OpenAI\n",
    "from pydantic import BaseModel\n",
    "from enum import Enum\n",
    "from typing import Optional\n",
    "\n",
    "class Step_index(BaseModel):\n",
    "    lean_tactic_template: str\n",
    "    tactic_input: Optional[str]\n",
    "    NL: str\n",
    "\n",
    "class Steps_index(BaseModel):\n",
    "    steps: list[Step_index]\n",
    "\n",
    "class Step(BaseModel):\n",
    "    tactic_template: int\n",
    "    theorem_name: Optional[int]\n",
    "\n",
    "class Steps(BaseModel):\n",
    "    steps: list[Step]\n",
    "\n",
    "class Error(BaseModel):\n",
    "    line: int\n",
    "    tutor: str\n",
    "\n",
    "def ask_llm_tutor_structured(error_statement, nl_tactics, lean_tactics):\n",
    "    client = OpenAI(api_key='')\n",
    "    prompt = (\n",
    "        f\"\"\"\n",
    "        Here are ALL the lean tactics THAT OUR LEAN NAMESPACE RECONGIZES:\n",
    "        \"rw [name_of_theorem]\": \"rewrite using a theorem make sure the box brackets exists aroud name_of_theorem\",\n",
    "        \"rw [ \\l name_of_theorem]\": \"rewrite using the left-hand side of a theorem make sure the box brackets exists aroud name_of_theorem\",\n",
    "        \"induction k with d hd\": '''induction on k with d as the base case and hd as the induction step\n",
    "        . Note when the base case has been proved you must end with the rfl and similarly with the induction step''',\n",
    "        'rfl': \"whenever a goal is completed and the LHS and RHS are exactly equal, use rfl to close the goal\",\n",
    "        'add_succ': \"theorem that for any natural numbers n and m: n + succ(m) = succ(n + m)\",\n",
    "        'add_zero': \"theorem that for any natural number n: n + 0 = n\",\n",
    "        'add_assoc': \"theorem that for any natural numbers n, m, and k: n + (m + k) = (n + m) + k\",\n",
    "        'add_comm': \"theorem that for any natural numbers n and m: n + m = m + n\",\n",
    "\n",
    "        A student has made an error in their proof. We converted the NL steps to Lean tactics and tried to compile the code but it failed. Here is the error message:\n",
    "        {error_statement}\n",
    "        Write a tutor response to the student explaining the error and how they can fix it. Do not provde the solution, only the explanation of the error and how they can fix it.\n",
    "        KEEP your response really short and simple.\n",
    "\n",
    "        here are the steps that the student has written in natural language and the corresponding lean tactics:\n",
    "        NL_TACTICS: {nl_tactics} ;\n",
    "        LEAN_TACTICS: {lean_tactics}\n",
    "        NOTE A STUDENT DOES NOT UNDERSTAND LEAN BUT THEY UNDERSTAND THE MATH\n",
    "        OF THE TYPE WRITTEN ABOVE IN THE NL_TACTICS\n",
    "        SO DO NOT USE LEAN TERMINOLOGY IN YOUR RESPONSE BUT USE NATURAL LANGUAGE TACTIC TERMINOLOGY\n",
    "        \"\"\"\n",
    "    )\n",
    "    response = client.beta.chat.completions.parse(messages=[{\"role\": \"user\", \"content\": prompt}], model=\"gpt-4o-mini-2024-07-18\", temperature=0, n=1, response_format=Error)\n",
    "    return response.choices[0].message.parsed\n",
    "\n",
    "def ask_llm_structured_2(statement):\n",
    "    client = OpenAI(api_key='')\n",
    "    prompt = (\n",
    "        f\"\"\"\n",
    "        here are all the possible lean tactics that you can PLEASE ONLY USE THESE TACTICS:\n",
    "        Here are ALL the lean tactics THAT OUR LEAN NAMESPACE RECONGIZES:\n",
    "        \"rw [name_of_theorem]\": \"rewrite using a theorem make sure the box brackets exists aroud name_of_theorem\",\n",
    "        \"rw [ \\l name_of_theorem]\": \"rewrite using the left-hand side of a theorem make sure the box brackets exists aroud name_of_theorem\",\n",
    "        \"induction k with d hd\": '''induction on k where d represents the base case and hd reprsents the induction step\n",
    "        . Note when the base case has been proved you must end with the rfl and similarly with the induction step''',\n",
    "        'rfl': \"whenever a goal is completed and the LHS and RHS are exactly equal, use rfl to close the goal\",\n",
    "        'add_succ': \"theorem that for any natural numbers n and m: n + succ(m) = succ(n + m)\",\n",
    "        'add_zero': \"theorem that for any natural number n: n + 0 = n\",\n",
    "        'add_assoc': \"theorem that for any natural numbers n, m, and k: n + (m + k) = (n + m) + k\",\n",
    "        'add_comm': \"theorem that for any natural numbers n and m: n + m = m + n\",\n",
    "        'hd': \"induction hypothesis\",\n",
    "\n",
    "        YOU CAN ONLY USE ONE OF THE ABOVE TACTICS DO NOT USE ANY OTHER TACTICS\n",
    "\n",
    "        convert each natural language step into lean tactic indepdantly:\n",
    "        Note: there is a one-one mapping between steps and tactics\n",
    "        {statement}\n",
    "        \"\"\"\n",
    "        )\n",
    "    response = client.beta.chat.completions.parse(messages=[{\"role\": \"user\", \"content\": prompt}], model=\"gpt-4o-mini-2024-07-18\", temperature=0, n=1, response_format=Steps_index)\n",
    "    return response.choices[0].message.parsed"
   ]
  },
  {
   "cell_type": "markdown",
   "metadata": {},
   "source": [
    "## NL -> Formal Dictionary"
   ]
  },
  {
   "cell_type": "code",
   "execution_count": null,
   "metadata": {},
   "outputs": [
    {
     "name": "stderr",
     "output_type": "stream",
     "text": [
      "<>:3: SyntaxWarning: invalid escape sequence '\\l'\n",
      "<>:3: SyntaxWarning: invalid escape sequence '\\l'\n",
      "/var/folders/l_/zz2st2097tg79c4ff5gdms5m0000gn/T/ipykernel_49190/3204633841.py:3: SyntaxWarning: invalid escape sequence '\\l'\n",
      "  \"rw [ \\l name_of_theorem]\": \"rewrite using the left-hand side of a theorem\",\n"
     ]
    }
   ],
   "source": [
    "tactic_NL_dict = {\n",
    "  \"rw [name_of_theorem]\": \"rewrite using a theorem\",\n",
    "  \"rw [ \\l name_of_theorem]\": \"rewrite using the left-hand side of a theorem\",\n",
    "  \"induction k with d hd\": '''induction on k with d as the base case and hd as the induction step\n",
    "  the lean compiler automatically creates the goals for the base case and the induction step, and we start by solving the base case\n",
    "  followed by the induction step''',\n",
    "  'rfl': \"whenever a goal is completed and the LHS and RHS are exactly equal, use rfl to close the goal\",\n",
    "  'add_succ': \"theorem that for any natural numbers n and m: n + succ(m) = succ(n + m)\",\n",
    "  'add_zero': \"theorem that for any natural number n: n + 0 = n\",\n",
    "  'add_assoc': \"theorem that for any natural numbers n, m, and k: n + (m + k) = (n + m) + k\",\n",
    "  'add_comm': \"theorem that for any natural numbers n and m: n + m = m + n\",\n",
    "}"
   ]
  },
  {
   "cell_type": "markdown",
   "metadata": {},
   "source": [
    "## Prompt"
   ]
  },
  {
   "cell_type": "code",
   "execution_count": null,
   "metadata": {},
   "outputs": [
    {
     "name": "stderr",
     "output_type": "stream",
     "text": [
      "<>:34: SyntaxWarning: invalid escape sequence '\\l'\n",
      "<>:34: SyntaxWarning: invalid escape sequence '\\l'\n",
      "/var/folders/l_/zz2st2097tg79c4ff5gdms5m0000gn/T/ipykernel_50348/2507010694.py:34: SyntaxWarning: invalid escape sequence '\\l'\n",
      "  \"\"\"\n"
     ]
    }
   ],
   "source": [
    "def ask_llm_structured(statement):\n",
    "    client = OpenAI(api_key='')\n",
    "    prompt = (\n",
    "        f\"\"\"\n",
    "        Here are ALL the lean tactics THAT OUR LEAN NAMESPACE RECONGIZES:\n",
    "\n",
    "        For each step in the proof:\n",
    "\n",
    "        select one of the tactics from the list below:\n",
    "\n",
    "        THIS IS A LIST OF TACTICS:\n",
    "        1: \"rw [name_of_theorem]\": \"rewrite using a theorem make sure the box brackets exists aroud name_of_theorem\",\n",
    "        2: \"rw [ \\l name_of_theorem]\": \"rewrite using the left-hand side of a theorem make sure the box brackets exists aroud name_of_theorem\",\n",
    "        3: \"induction k with d hd\": '''induction on k where d represents the base case and hd reprsents the induction step\n",
    "        . Note when the base case has been proved you must end with the rfl and similarly with the induction step''',\n",
    "        4: 'rfl': \"whenever a goal is completed and the LHS and RHS are exactly equal, use rfl to close the goal\",\n",
    "\n",
    "        THIS IS A LIST OF THEOREMS:\n",
    "        1: 'add_succ': \"theorem that for any natural numbers n and m: n + succ(m) = succ(n + m)\",\n",
    "        2: 'add_zero': \"theorem that for any natural number n: n + 0 = n\",\n",
    "        3: 'add_assoc': \"theorem that for any natural numbers n, m, and k: n + (m + k) = (n + m) + k\",\n",
    "        4: 'add_comm': \"theorem that for any natural numbers n and m: n + m = m + n\",\n",
    "        5: 'hd': \"induction hypothesis\",\n",
    "\n",
    "        YOU CANNOT USE A THEOREM BY THEMSELVES YOU MUST USE THEM IN A TACTIC\n",
    "\n",
    "        return a list of indices of tactics and the theorem names.\n",
    "        IMPORTANT: If the step doesn't match closely with any of the tactics, return None as the tactic index and None as the theorem name\n",
    "        If a tactic does not have name_of_theorem, just input none as the theorem name\n",
    "\n",
    "        convert each natural language step into lean tactic indepdantly:\n",
    "        Note: there is a one-one mapping between steps and tactics\n",
    "        {statement}\n",
    "        \"\"\"\n",
    "        )\n",
    "    response = client.beta.chat.completions.parse(messages=[{\"role\": \"user\", \"content\": prompt}], model=\"gpt-4o-mini-2024-07-18\", temperature=0, n=1, response_format=Steps)\n",
    "    return response.choices[0].message.parsed\n"
   ]
  },
  {
   "cell_type": "markdown",
   "metadata": {},
   "source": [
    "## Correct Solution"
   ]
  },
  {
   "cell_type": "code",
   "execution_count": 198,
   "metadata": {},
   "outputs": [],
   "source": [
    "steps = \"\"\"\n",
    "problem: theorem zero_add_thm (k: ℕ) : 0 + k = k\n",
    "step1: we start by induction on k\n",
    "step2: for the base case we show that we have 0 + 0 = 0\n",
    "step3: hence we have proved the base case\n",
    "step4: to show that 0 + d + 1 = d + 1 we use n + m + 1 = n + m + 1 substituting n with 0 and m with d\n",
    "step5: using the induction hypothesis we can subsitute\n",
    "step6: hence we have proved the k+1 step\n",
    "\"\"\"\n"
   ]
  },
  {
   "cell_type": "markdown",
   "metadata": {},
   "source": [
    "## Incorrect Solutions"
   ]
  },
  {
   "cell_type": "code",
   "execution_count": 157,
   "metadata": {},
   "outputs": [],
   "source": [
    "wrong_steps_1 = \"\"\"\n",
    "problem: theorem zero_add_thm (k: ℕ) : 0 + k = k\n",
    "step1: we begin by induction\n",
    "step2: to prove the base case I use the fact that n + 0 = n and substitute n with 0\n",
    "step3: base case is done\n",
    "step4: use the fact that n + 0 = n and use the commutative property of addition to show that 0 + succ(k) = succ(k)\n",
    "step5: hence we are done\n",
    "\"\"\"\n",
    "\n",
    "wrong_steps_2 = \"\"\"\n",
    "problem: theorem zero_add_thm (k: ℕ) : 0 + k = k\n",
    "step1: This can be written as 0 + k * 1 = k\n",
    "step2: This can be written as 0 = k - k * 1\n",
    "step3: since k = k * 1, k - k * 1 = 0\n",
    "step4: hence 0 = 0 and we're done\n",
    "\"\"\"\n"
   ]
  },
  {
   "cell_type": "markdown",
   "metadata": {},
   "source": [
    "## Tactic Indices"
   ]
  },
  {
   "cell_type": "code",
   "execution_count": 199,
   "metadata": {},
   "outputs": [
    {
     "name": "stdout",
     "output_type": "stream",
     "text": [
      "Step 1: Tactic: 3, Theorem: None\n",
      "Step 2: Tactic: 1, Theorem: None\n",
      "Step 3: Tactic: 4, Theorem: None\n",
      "Step 4: Tactic: 1, Theorem: None\n",
      "Step 5: Tactic: 5, Theorem: None\n",
      "Step 6: Tactic: 4, Theorem: None\n"
     ]
    }
   ],
   "source": [
    "test_structured = ask_llm_structured(steps)\n",
    "for i, step in enumerate(test_structured.steps):\n",
    "    print(f\"Step {i + 1}: Tactic: {step.tactic_template}, Theorem: {step.theorem_name}\")"
   ]
  },
  {
   "cell_type": "markdown",
   "metadata": {},
   "source": [
    "## Proof in Lean"
   ]
  },
  {
   "cell_type": "code",
   "execution_count": 186,
   "metadata": {},
   "outputs": [
    {
     "name": "stdout",
     "output_type": "stream",
     "text": [
      "    induction k with d hd \n",
      "    rw [add_zero] \n",
      "    rfl \n",
      "    rw [add_zero] \n",
      "    rw [add_comm] \n",
      "    rfl \n"
     ]
    }
   ],
   "source": [
    "complete_tactics = []\n",
    "for step in test_structured.steps:\n",
    "    if step.theorem_name is not None:\n",
    "        complete_tactic = tactics[step.tactic_template - 1].replace(\"name_of_theorem\", theorems[step.theorem_name - 1], 1)\n",
    "        complete_tactics.append(complete_tactic)\n",
    "    else:\n",
    "        complete_tactics.append(tactics[step.tactic_template - 1])\n",
    "\n",
    "tactic_steps = [f\"\"\"    {step} \"\"\" for step in complete_tactics]\n",
    "tactic_steps = \"\\n\".join(tactic_steps)\n",
    "print(tactic_steps)\n"
   ]
  },
  {
   "cell_type": "markdown",
   "metadata": {},
   "source": [
    "## Compile"
   ]
  },
  {
   "cell_type": "code",
   "execution_count": 184,
   "metadata": {},
   "outputs": [],
   "source": [
    "lean_compile(f'''import Game.Levels.Addition.L04add_assoc\n",
    "namespace MyNat\n",
    "\n",
    "\n",
    "\n",
    "theorem zero_add_thm (k: ℕ) : 0 + k = k := by\n",
    "{tactic_steps}\n",
    "'''\n",
    ");"
   ]
  },
  {
   "cell_type": "code",
   "execution_count": 256,
   "metadata": {},
   "outputs": [],
   "source": [
    "def pipeline(statement):\n",
    "    structured_steps = ask_llm_structured(statement)\n",
    "    tactics = [f\"\"\"    {step.Lean} \"\"\" for step in structured_steps.steps]\n",
    "    tactics = \"\\n\".join(tactics)\n",
    "    output = lean_compile(f'''import Game.Levels.Addition.L04add_assoc\n",
    "namespace MyNat\n",
    "theorem zero_add_thm (k: ℕ) : 0 + k = k := by\n",
    "{tactics}\n",
    "'''\n",
    ")\n",
    "    if(output == False):\n",
    "        return tactics, \"The proof is correct\"\n",
    "    tutoring_out = ask_llm_tutor_structured(output, statement, tactics)\n",
    "    return tactics, tutoring_out\n"
   ]
  },
  {
   "cell_type": "code",
   "execution_count": 257,
   "metadata": {},
   "outputs": [],
   "source": [
    "output, t_out = pipeline(steps)"
   ]
  },
  {
   "cell_type": "code",
   "execution_count": 253,
   "metadata": {},
   "outputs": [
    {
     "name": "stdout",
     "output_type": "stream",
     "text": [
      "    induction k with 0 hd \n",
      "    rw [add_zero] \n",
      "    rfl \n",
      "    rw [add_succ] \n",
      "    hd \n",
      "    rfl \n"
     ]
    }
   ],
   "source": [
    "print(output)"
   ]
  },
  {
   "cell_type": "code",
   "execution_count": 215,
   "metadata": {},
   "outputs": [
    {
     "name": "stdout",
     "output_type": "stream",
     "text": [
      " you have an error in step 5 and the tutor says The error you're encountering is due to the way you've structured your proof. Lean requires that every recursive step in your proof must be based on a smaller or simpler case. In your proof, it seems that the base case isn't being recognized as a proper starting point for the induction, which is causing the termination issue. To fix this, you can try using 'have' statements to break down your goals into simpler parts, or you might need to specify a different method for proving the induction step. This will help Lean understand how your proof progresses.\n"
     ]
    }
   ],
   "source": [
    "print(f''' you have an error in step {t_out.line - 3} and the tutor says {t_out.tutor}''')"
   ]
  },
  {
   "cell_type": "markdown",
   "metadata": {},
   "source": [
    "## not structured"
   ]
  },
  {
   "cell_type": "code",
   "execution_count": 135,
   "metadata": {},
   "outputs": [],
   "source": [
    "output = ask_llm(steps)"
   ]
  },
  {
   "cell_type": "code",
   "execution_count": 136,
   "metadata": {},
   "outputs": [
    {
     "name": "stdout",
     "output_type": "stream",
     "text": [
      "induction k with d hd  \n",
      "rw [add_succ]  \n",
      "rfl  \n",
      "rw [add_succ]  \n",
      "rw [add_zero]  \n",
      "rfl  \n"
     ]
    }
   ],
   "source": [
    "print(output)"
   ]
  },
  {
   "cell_type": "code",
   "execution_count": 137,
   "metadata": {},
   "outputs": [
    {
     "name": "stdout",
     "output_type": "stream",
     "text": [
      "    induction k with d hd  \n",
      "    rw [add_succ]  \n",
      "    rfl  \n",
      "    rw [add_succ]  \n",
      "    rw [add_zero]  \n",
      "    rfl  \n"
     ]
    }
   ],
   "source": [
    "tactics = output.split(\"\\n\")\n",
    "# add tab to each tactic\n",
    "tactics = [f\"    {tactic}\" for tactic in tactics]\n",
    "tactics = \"\\n\".join(tactics)\n",
    "print(tactics)"
   ]
  },
  {
   "cell_type": "code",
   "execution_count": 138,
   "metadata": {},
   "outputs": [
    {
     "data": {
      "text/plain": [
       "\"Compilation Error:\\n/Users/arnavmehta/Desktop/AIInEd/NNG4/Game/Levels/Addition/temp_theorem.lean:10:8: error: tactic 'rewrite' failed, did not find instance of the pattern in the target expression\\n  ?a + succ ?d\\ncase zero\\n⊢ 0 + 0 = 0\\n\\n\""
      ]
     },
     "execution_count": 138,
     "metadata": {},
     "output_type": "execute_result"
    }
   ],
   "source": [
    "lean_compile(f'''import Game.Levels.Addition.L04add_assoc\n",
    "namespace MyNat\n",
    "\n",
    "\n",
    "\n",
    "theorem zero_add_thm (k: ℕ) : 0 + k = k := by\n",
    "{tactics}\n",
    "'''\n",
    ")"
   ]
  },
  {
   "cell_type": "code",
   "execution_count": null,
   "metadata": {},
   "outputs": [],
   "source": []
  }
 ],
 "metadata": {
  "kernelspec": {
   "display_name": "lean-env",
   "language": "python",
   "name": "python3"
  },
  "language_info": {
   "codemirror_mode": {
    "name": "ipython",
    "version": 3
   },
   "file_extension": ".py",
   "mimetype": "text/x-python",
   "name": "python",
   "nbconvert_exporter": "python",
   "pygments_lexer": "ipython3",
   "version": "3.13.1"
  }
 },
 "nbformat": 4,
 "nbformat_minor": 2
}
